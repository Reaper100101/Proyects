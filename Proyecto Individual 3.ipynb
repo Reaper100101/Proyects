{
 "cells": [
  {
   "cell_type": "markdown",
   "metadata": {},
   "source": [
    "# Continuación del PP2.\n",
    "\n",
    "Retomando lo obtenido en el proyecto individual 2, donde se obtuvo la siguiente ecuación:\n",
    "\n",
    "$$D_{Bean}\\frac{C^{\\prime} - C^{\\prime}_{1}}{r} - D_{Solution}\\frac{C_{1} - C}{\\delta} = \\frac{k}{\\mu E}\\left(\\rho g h\\right)$$\n",
    "\n",
    "De esta ecuación propuesta se planteó las siguientes consideraciones:\n",
    "\n",
    "-  Permeabilidad (k):\n",
    "\n",
    "$$k = \\frac{\\epsilon^3_{bed} \\cdot d^2_s}{180 \\cdot \\left(1 - \\epsilon_bed\\right)^2}$$\n",
    "\n",
    "Para dicho valor, se extraerá del artículo \"Modeling Mass and Heat Transfer in Multiphase Coffee AromaExtraction\" (Beverly et al., 2020) y se empleará el siguiente: \n",
    "\n",
    "$$k = 1.8 \\times 10^{-12} \\ m^2$$\n",
    "\n",
    "-  Viscosidad ($\\mu$):\n",
    "\n",
    "$$\\mu = e^{\\left(-12.96 -9.43 \\omega +8.12 \\omega^2 - \\frac{973.1+4382\\omega^2}{T+273.15}\\right)}$$\n",
    "\n",
    "Para el cual se supondrá una fracción en masa de 0.70 y una temperatura de 80 °C, por lo tanto aproximando el valor a base del artículo \"The experimental data on the density, viscosity, and boiling temperature of the coffee extract\" (Khomyakov et al., 2020). Tendremos el siguiente valor:\n",
    "\n",
    "$$\\mu = 291.2 \\ mPa \\cdot s = 291.2 \\times 10^{-3} \\ Pa \\cdot s$$\n",
    "\n",
    "-  Difusividades:\n",
    "\n",
    "Los valores empleados para dichos parámetros son extraídos de \"Modeling Mass and Heat Transfer in Multiphase Coffee AromaExtraction\" (Beverly et al., 2020), del cual tendremos que:\n",
    "\n",
    "$$ D_{Solution} = D_{efectiva} = 4.7 \\times 10^{-12} \\ \\frac{m^2}{s}$$\n",
    "\n",
    "Emplenado la ecuación presentada en el artículo anterior para el valor de impedimiento, la cual es:\n",
    "\n",
    "$$H_f = \\frac{D_{Bean}}{D_{Solution}}$$\n",
    "\n",
    "El valor para el valor de impedimiento, es extraído de \"Kinetics of coffee infusion: a comparative study on the extraction kinetics of mineral ions and caffeine from several types of medium roasted coffees\", (Jaganyi, D., & Madlala, S.P. 2000), en el cual se indica que para el contenido de los granos de café (cafeína y minerales) posee un valor entre 9 y 48, por lo que se emplea el promedio de ambos para el cálculo de la difusividad del grano:\n",
    "\n",
    "$$H_f = \\frac{48 - 9}{2} = 19.5$$\n",
    "\n",
    "La difusividad del grano está dada por:\n",
    "\n",
    "$$D_{Bean} = H_f \\cdot D_{Solution} = 19.5 \\cdot 4.7 \\times 10^{-12} =  91.7 \\times 10^{-12} \\ \\frac{m^2}{s}$$\n",
    "\n",
    "-  Densidad del extrato del café ($\\rho$):\n",
    "\n",
    "El valor estandar reportado para la densidad de un extracto del café es de 1000 $\\frac{kg}{m^3}$. (Reategui Isla, 2015)."
   ]
  },
  {
   "cell_type": "markdown",
   "metadata": {},
   "source": [
    "# Simulación.\n",
    "\n",
    "Se empleará el sofware de COMSOL 5.6; para la realización de la simulación de la situación planteada para ambos chorreadores de café (sin modificar y modificado). Para esto se emplearán los datos anteriormente planteados en las ecuaciones. Además, para la creación del material \"granos de café\" en COMSOL se emplearán los siguientes datos:\n",
    "\n",
    "-  Porosidad ($\\epsilon$): 0.24\n",
    "\n",
    "-  Conductividad térmica del café: 20 $\\frac{W}{m \\cdot K}$\n",
    "\n",
    "-  Capacidad calorífica a presión constante ($C_p$): 3600 $\\frac{J}{kg \\cdot K}$\n",
    "\n",
    "-  Coeficiente de dilatación adiabática ($\\gamma$): 0.5\n",
    "\n",
    "Estos datos extraídos del artículo \"Physical and Thermal Properties of Coffee\". (Chandrasekar & Viswanathan, 1999).\n",
    "\n",
    "\n",
    "## Chorreador de café sin modificar.\n",
    "\n",
    "\n",
    "\n",
    "## Chorreador de café modificado."
   ]
  },
  {
   "cell_type": "markdown",
   "metadata": {},
   "source": [
    "# Bibliografía:\n",
    "\n",
    "-  Beverly, D., Lopez-Quiroga, E., Farr, R., Melrose, J., Henson, S., Bakalis, S., & Fryer, P. J. (2020). Modeling Mass and Heat Transfer in Multiphase Coffee Aroma Extraction. Industrial and Engineering Chemistry Research, 59(24), 11099–11112. https://doi.org/10.1021/ACS.IECR.0C01153/SUPPL_FILE/IE0C01153_SI_001.PDF\n",
    "-  Khomyakov, A. P., Mordanov, S. V., & Khomyakova, T. V. (2020). The experimental data on the density, viscosity, and boiling temperature of the coffee extract. IOP Conference Series: Earth and Environmental Science, 548(2). https://doi.org/10.1088/1755-1315/548/2/022040\n",
    "-  Jaganyi, D., & Madlala, S.P. (2000). Kinetics of coffee infusion: a comparative study on the extraction kinetics of mineral ions and caffeine from several types of medium roasted coffees. Journal of the Science of Food and Agriculture, 80, 85-90.\n",
    "-  Reategui Isla, V. A. (2015). CARACTERIZACIÓN REOLÓGICA DEL MUCÍLAGO DEL CAFÉ (Coffea arabica L.) LIOFILIZADO. [UNIVERSIDAD NACIONAL AGRARIA DE LA SELVA - FACULTAD DE INGENIERÍA EN INDUSTRIAS ALIMENTARIAS]. http://repositorio.unas.edu.pe/bitstream/handle/UNAS/1276/RIVA_2015.pdf?sequence=1&isAllowed=y\n",
    "-  Chandrasekar, V., & Viswanathan, R. (1999). Physical and Thermal Properties of Coffee. Journal of Agricultural Engineering Research, 73(3), 227–234. https://doi.org/10.1006/JAER.1999.0411"
   ]
  }
 ],
 "metadata": {
  "kernelspec": {
   "display_name": "Python 3",
   "language": "python",
   "name": "python3"
  },
  "language_info": {
   "codemirror_mode": {
    "name": "ipython",
    "version": 3
   },
   "file_extension": ".py",
   "mimetype": "text/x-python",
   "name": "python",
   "nbconvert_exporter": "python",
   "pygments_lexer": "ipython3",
   "version": "3.8.5"
  }
 },
 "nbformat": 4,
 "nbformat_minor": 4
}
